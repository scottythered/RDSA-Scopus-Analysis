{
 "cells": [
  {
   "cell_type": "markdown",
   "metadata": {},
   "source": [
    "# Scopus and RDSA References\n",
    "\n",
    "**Abstract**: Rice University's Fondren Library started the Rice Digital Scholarship Archive (RDSA) in 2007 as a way to collect and preserve digital objects related to Rice University, as well as making them available to researchers both local and external to the University. Making these objects available to the research world at large affords Fondren the opportuity to peek in on how scholars are using our materials, and to check to see if RDSA materials are being properly cited as other research sources. This Notebook details one investigation that ultimately led to findings about implied researcher behavior in citing sources."
   ]
  },
  {
   "cell_type": "markdown",
   "metadata": {},
   "source": [
    "## Intro"
   ]
  },
  {
   "cell_type": "markdown",
   "metadata": {},
   "source": [
    "Originally, I wanted to check Elsevier's Scopus, the largest abstract and citation database of peer-reviewed literature, to see how many articles could be traced to Rice University as a source, as well as the Rice Institute. (The Rice Institute is Rice University's original name, and the Rice Institute Pamphlets collection in the RDSA).\n",
    "\n",
    "Scopus provides both a GUI search interface as well as the Scopus Search API to conduct inquiries. Each allows users to search the entire text of parsed reference citations:\n",
    "\n",
    "```\n",
    "GUI General Reference Search Results:\n",
    "\"Rice Institute\" : 320 document results\n",
    "\"Rice University\" : 2,510 document results\n",
    "```\n",
    "\n",
    "Of course, it became clear these results could be misleading: if the cited article itself is about Rice... well, that doesn't always mean that it is sourced *from* Rice. I switched to distinct GUI/API queries that searched the title of each citation (REFTITLE), as well as the source of the citation (REFSRCTITLE).\n",
    "\n",
    "```\n",
    "Search on REFTITLE:\n",
    "\"Rice Institute\" : 30 document results\n",
    "\"Rice University\" : 326 document results\n",
    "```\n",
    "\n",
    "```\n",
    "Search on REFSRCTITLE:\n",
    "\"Rice Institute\" : 293 document results\n",
    "\"Rice University\" : 2,164 document results\n",
    "```\n",
    "\n",
    "If we look at these REFSRCTITLE searches plotted by the publication year of the citing articles, we can see an amazing jump: by 2013, the citing of Rice material was three and a half times more than it was in 2007, when the RDSA was founded.\n",
    "\n",
    "![graph1.PNG](graph1.PNG)\n",
    "\n",
    "Was this jump emboldened by the introduction of the RDSA? It seemed worth it to look at how many Scopus articles specifically cite RDSA digital objects!"
   ]
  },
  {
   "cell_type": "markdown",
   "metadata": {},
   "source": [
    "## Data Collection\n",
    "Scopus's level of searchable metadata detail is top-notch. Full-text articles with cited references have the entirety of that information parsed into structured data fields, which makes it extremely easy to search and retrieve citation information, including cited web URLs:\n",
    "\n",
    "![scopus-1.PNG](scopus-1.PNG)\n",
    "\n",
    "Incidentally, the cornerstone of an RDSA object's citation is a URL -- technically, a URI -- known as the object's *permanent RDSA handle ID*, a persistent identifier (*permalink*) supplied by the [Corporation for National Research Initiatives](https://www.handle.net/), which begins with **hdl.handle.net/1911/**.\n",
    "\n",
    "In addition, there is a non-permanent URL for each object that uses our repository's general web domain: **scholarship.rice.edu/**\n",
    "\n",
    "So, for example, the RDSA article *\"Natural Associativity and Commutativity\"* has two (ultimately identical) identifying URLs:\n",
    "\n",
    "https://scholarship.rice.edu/handle/1911/62865\n",
    "and\n",
    "http://hdl.handle.net/1911/62865\n",
    "\n",
    "Since both of these types of URLs could be findable in Scopus articles, I decided to look for both forms in General Reference Scopus searches. Once an article containing one of the URLs in a cited reference is found, I could grab the RDSA URL and look at which RDSA materials are being used.\n",
    "\n",
    "At the same time, I could also grab that citation's internal Scopus ID, creating a list of cited RDSA objects that could be cross-referenced with Scopus's Abstract Retrieval API to get further data.\n",
    "\n",
    "![scopus-2.PNG](scopus-2.PNG)\n",
    "\n",
    "The results from these two URL searches were combined and condensed, resulting in a list of 167 Scopus IDs. I converted this list into a JSON doc of Scopus IDS:\n",
    "```{  \n",
    "   \"scopus\":[  \n",
    "      85038912567,\n",
    "      85020498833,\n",
    "      85038619276,\n",
    "      85031498308,\n",
    "      85029651603,\n",
    "      85020001078,\n",
    "      85028570268,\n",
    "      85026642128...\n",
    "```\n",
    "\n",
    "Further data gathering was accomplished with Python. Using the above JSON list, my Python script computed calls to the Abstract Retrieval API. The returned XML from each API call was then searched for the reference(s) containing RDSA URLs and extracted.\n",
    "\n",
    "**(Note: recreation of this method requires: (1) an API key from Elsevier, and (2) access to an institutional token from Elsevier. Elsevier provides Rice's on-campus IP range with an institutional token that allows a far greater amount of returned data from the APIs. My own API key has been obfuscated in the below Python scripts.)**\n",
    "\n",
    "The below script uses a simple RegEx to look for RDSA URLs:"
   ]
  },
  {
   "cell_type": "code",
   "execution_count": null,
   "metadata": {
    "collapsed": true
   },
   "outputs": [],
   "source": [
    "import requests\n",
    "from bs4 import BeautifulSoup\n",
    "import re\n",
    "import json\n",
    "\n",
    "json_input = open(\"scopus.json\")\n",
    "\n",
    "data = json.load(json_input)\n",
    "\n",
    "scopus_ids = data[\"scopus\"]\n",
    "\n",
    "for scopus_id in scopus_ids:\n",
    "    r = requests.get('https://api.elsevier.com/content/abstract/scopus_id/' + str(scopus_id) + '?apiKey=XXXXXXXXXXXXXXXXXXXX')\n",
    "    xml_received = r.text\n",
    "    soup = BeautifulSoup(xml_received,\"xml\")\n",
    "    reference = soup.find(\"ref-fulltext\", string=re.compile(\"hdl\\.handle\\.net\\/1911\\/\"))\n",
    "    alt_reference = soup.find(\"ref-fulltext\", string=re.compile(\"scholarship\\.rice\\.edu\"))\n",
    "    ref_id_a = reference.parent.find(\"itemid\")\n",
    "    ref_id_b = alt_reference.parent.find(\"itemid\")\n",
    "    if reference:\n",
    "        print(\"%s||%s||%s\" % (scopus_id, ref_id_a, reference))\n",
    "    if alt_reference:\n",
    "        print(\"%s||%s||%s\" % (scopus_id, ref_id_b, alt_reference))"
   ]
  },
  {
   "cell_type": "markdown",
   "metadata": {},
   "source": [
    "Unfortunately, the data in Scopus is not infallible. Some reference URLs were malformed, due to either author error or Scopus parsing error. I modified the script to look for variations of RDSA URLs with errant spaces and/or incorrect punctuation:"
   ]
  },
  {
   "cell_type": "code",
   "execution_count": null,
   "metadata": {
    "collapsed": true
   },
   "outputs": [],
   "source": [
    "for scopus_id in scopus_ids:\n",
    "    r = requests.get('https://api.elsevier.com/content/abstract/scopus_id/' + str(scopus_id) + '?apiKey=XXXXXXXXXXXXXXXXXXXXXXXXX')\n",
    "    xml_received = r.text\n",
    "    soup = BeautifulSoup(xml_received, \"xml\")\n",
    "    reference = soup.find(\"ref-fulltext\", string=re.compile(\"hdl\\s*\\.handle\\.net\\/1911|hdl\\.handle\\s*\\.net\\/1911|hdl\\.handle\\.net\\s*\\/1911|hdl\\.\\s*handle\\.net\\/1911|hdl\\.handle\\.\\s*net\\/1911|hdl\\.handle\\.net\\/\\s*1911|hdl\\.\\s*handle\\.\\s*net\\/1911|hdl\\.\\s*handle\\.\\s*net\\/\\s*1911|hdl\\s*\\.handle\\s*\\.net\\/1911|hdl\\s*\\.handle\\s*\\.net\\s*\\/1911|hdl\\s*\\.\\s*handle\\s*\\.\\s*net\\s*\\/1911|hdl\\.handle\\s*\\.\\s*net\\/1911\"))\n",
    "    alt_reference = soup.find(\"ref-fulltext\", string=re.compile(\"scholarship\\.rice\\.edu|scholarship\\s*\\.rice\\.edu|scholarship\\.\\s*rice\\.edu|scholarship\\.rice\\s*\\.edu|scholarship\\.rice\\.\\s*edu|scholarship\\.\\s*rice\\.\\s*edu|scholarship\\s\\.rice\\s*\\.edu|scholarship\\s*\\.\\s*rice\\s*\\.\\s*edu\"))\n",
    "    if reference:\n",
    "        try:\n",
    "            ref_id = reference.parent.find(\"itemid\", idtype=\"SGR\")\n",
    "            ref_link = reference.parent.find(\"ref-website\")\n",
    "            print(str(scopus_id) + '||' + str(ref_id).strip(\"\\<itemid idtype=\\\"SGR\\\"\\>\").strip(\"\\<\\/itemid\\>\") + '||' + str(reference).strip(\"\\<ref\\-fulltext\\>\").strip(\"\\<\\/ref\\-fulltext\\>\") + '||' + str(ref_link))\n",
    "        except:\n",
    "            ref_id = reference.parent.find(\"itemid\")\n",
    "            print(str(scopus_id) + '||' + str(ref_id).strip(\"\\<itemid idtype=\\\"SGR\\\"\\>\").strip(\"\\<\\/itemid\\>\") + '||' + str(reference).strip(\"\\<ref\\-fulltext\\>\").strip(\"\\<\\/ref\\-fulltext\\>\") + '||None')\n",
    "    if alt_reference:\n",
    "        try:\n",
    "            altref_id = alt_reference.parent.find(\"itemid\", idtype=\"SGR\")\n",
    "            altref_link = alt_reference.parent.find(\"ref-website\")\n",
    "            print(str(scopus_id) + '||' + str(altref_id).strip(\"\\<itemid idtype=\\\"SGR\\\"\\>\").strip(\"\\<\\/itemid\\>\") + '||' + str(alt_reference).strip(\"\\<ref\\-fulltext\\>\").strip(\"\\<\\/ref\\-fulltext\\>\") + '||' + str(altref_link))\n",
    "        except:\n",
    "            altref_id = alt_reference.parent.find(\"itemid\")\n",
    "            print(str(scopus_id) + '||' + str(altref_id).strip(\"\\<itemid idtype=\\\"SGR\\\"\\>\").strip(\"\\<\\/itemid\\>\") + '||' + str(alt_reference).strip(\"\\<ref\\-fulltext\\>\").strip(\"\\<\\/ref\\-fulltext\\>\") + '||None')"
   ]
  },
  {
   "cell_type": "markdown",
   "metadata": {},
   "source": [
    "Once the RDSA links are grabbed, they can be cleaned up and used to grab other kinds of data from the RDSA pages directly. Sample data:\n",
    "```{\n",
    "   \"data\":[\n",
    "      {\n",
    "         \"Article_Scopus_ID\":85038912567,\n",
    "         \"Ref_website_cleaned\":\"https://scholarship.rice.edu/handle/1911/70290\"\n",
    "      },\n",
    "      {\n",
    "         \"Article_Scopus_ID\":85020498833,\n",
    "         \"Ref_website_cleaned\":\"https://scholarship.rice.edu/handle/1911/19169\"\n",
    "      },\n",
    "      {\n",
    "         \"Article_Scopus_ID\":85038619276,\n",
    "         \"Ref_website_cleaned\":\"https://scholarship.rice.edu/handle/1911/70350\"\n",
    "      }]}\n",
    "```"
   ]
  },
  {
   "cell_type": "code",
   "execution_count": null,
   "metadata": {
    "collapsed": true
   },
   "outputs": [],
   "source": [
    "import requests\n",
    "from bs4 import BeautifulSoup\n",
    "import json\n",
    "\n",
    "json_input = open(\"scopus_handles.json\")\n",
    "\n",
    "buffed = json.load(json_input)\n",
    "\n",
    "for x in buffed[\"data\"]:\n",
    "    r = requests.get(x[\"Ref_website_cleaned\"])\n",
    "    html_received = r.text\n",
    "    soup = BeautifulSoup(html_received, 'html.parser')\n",
    "    refer_ence = soup.find(\"dim\")\n",
    "    if refer_ence:\n",
    "        try:\n",
    "            print(str(x[\"Article_Scopus_ID\"]) + '||' + str(refer_ence).strip(\"\\<dim\\>\").strip(\"\\<\\/dim\\>\"))\n",
    "        except:\n",
    "            print(str(x[\"Article_Scopus_ID\"]) + '||Nothing')"
   ]
  },
  {
   "cell_type": "markdown",
   "metadata": {},
   "source": [
    " All outputted information is later collected and collocated in a spreadsheet.\n",
    " \n",
    " ## Analysis\n",
    "\n",
    "![graph2.PNG](graph2.PNG)\n",
    "\n",
    "**What do the API search results tell us?** For starters, our 167 results reference a total of 154 unique materials in the RDSA, encompassing theses and dissertations, Rice Institute pamphlets, faculty articles, and others. (The most frequently occurring source in our data is a [1974 Rice Institute pamphlet](https://scholarship.rice.edu/handle/1911/63159), which showed up in six articles.)"
   ]
  },
  {
   "cell_type": "markdown",
   "metadata": {},
   "source": [
    "**How about citation counts?** The Python script that looks for RDSA URLs with errant spaces and/or incorrect punctuation is, at the same time, grabbing a second set of Scopus IDs. This is because each item in an article's reference section is ultimately connected back to its main Scopus database entry. Knowing the IDs for our RDSA materials means we can also grab their citation counts with slightly modified Python:"
   ]
  },
  {
   "cell_type": "code",
   "execution_count": null,
   "metadata": {
    "collapsed": true
   },
   "outputs": [],
   "source": [
    "for scopus_id in scopus_ids:\n",
    "    r = requests.get('https://api.elsevier.com/content/abstract/scopus_id/' + str(scopus_id) + '?apiKey=XXXXXXXXXXXXXXXXXXXXXXXXXXXXX')\n",
    "    xml_received = r.text\n",
    "    soup = BeautifulSoup(xml_received,\"xml\")\n",
    "    cited_count = soup.find(\"citedby-count\")\n",
    "    if cited_count:\n",
    "        date_data = soup.find(\"prism:coverDate\")\n",
    "        print(str(scopus_id) + '||' + str(cited_count).strip('\\<dn\\:citedby\\-count\\>').strip('\\<\\/dn\\:citedby\\-count\\>') + '||' + str(date_data).strip('\\<prism\\:coverDate\\>').strip('\\<\\/prism\\:coverDate\\>'))"
   ]
  },
  {
   "cell_type": "markdown",
   "metadata": {},
   "source": [
    "Roughly 64 percent of the RDSA materials in the results have only been cited once, and a full three-quarters have been cited three times or less. However, seven RDSA docs have gotten *a ton of use* in Scopus -- including three Rice Institute pamphlets, two faculty articles, and a thesis.\n",
    "<br />\n",
    "\n",
    "| Scopus Reference ID | Handle | Cited Count |\n",
    "|--|--|--|\n",
    "|8645875|https://scholarship.rice.edu/handle/1911/62733|51|\n",
    "|33745146554|https://scholarship.rice.edu/handle/1911/19969|56|\n",
    "|34548277499|https://scholarship.rice.edu/handle/1911/21679|96|\n",
    "|3509551|https://scholarship.rice.edu/handle/1911/9176/|155|\n",
    "|79951656251|http://scholarship.rice.edu/handle/1911/62229|163|\n",
    "|8744485|http://scholarship.rice.edu/handle/1911/63159|194|\n",
    "|3146836|http://scholarship.rice.edu/handle/1911/62865|230|\n",
    "\n",
    "Additionally, Scopus metadata has already indexed the subject matter of the articles referencing the RDSA objects:"
   ]
  },
  {
   "cell_type": "code",
   "execution_count": null,
   "metadata": {
    "collapsed": true
   },
   "outputs": [],
   "source": [
    "for scopus_id in scopus_ids:\n",
    "    r = requests.get('https://api.elsevier.com/content/abstract/scopus_id/' + str(scopus_id) + '?apiKey=XXXXXXXXXXXXX')\n",
    "    xml_received = r.text\n",
    "    soup = BeautifulSoup(xml_received,\"xml\")\n",
    "    subjects = soup.find_all(\"subject-area\")\n",
    "    for subject in subjects:\n",
    "        print(str(scopus_id) + '||' + str(subject))"
   ]
  },
  {
   "cell_type": "markdown",
   "metadata": {},
   "source": [
    "These results were easily cleaned and condensed to reportable subject areas. While the natural/formal sciences of course took up quite a chunk of the pie in aggregate, there was a strong showing from the arts and social sciences as well:\n",
    "\n",
    "![graph3.PNG](graph3.PNG)\n",
    "\n",
    "## Extended Analysis\n",
    "\n",
    "While all of these results were impressive, something nagged at me. I couldn't put my finger on it until I overlaid the number of 2007-2016 RDSA search results on top of the original REFSRC search results and saw the giant chasm between the two:\n",
    "\n",
    "![graph4.PNG](graph4.PNG)\n",
    "\n",
    "Full discolsure: I think it naive to assume everything in the RDSA should be found in Scopus. While we do have almost 3,000 scholarly publications in the RDSA and thousands upon thousands more dissertations, archival images, university-related documents, and cultural heritage collections, it would be utterly foolish to think that every journal article written by Rice faculty and staff will be deposited there, or that everything in the RDSA should be somehow referenced in Scopus.\n",
    "\n",
    "That being said, I suspect are that we are missing out on a limited number of citations that should explicitly link to the RDSA.\n",
    "\n",
    "Take, for example, *Natural Associativity and Commutativity*, the top-cited RDSA document from our search results; written in 1963, it has 230 citations in Scopus between 1970 and 2017, with 75 in the past ten years.\n",
    "\n",
    "Only *one* of these 75 citations, it turns out, links directly to the RDSA.\n",
    "\n",
    "Is it possible that people have been citing a physical copy of the pamphlet for the last decade? I suppose; its author, Saunders MacLean, included it in a monograph in the late 1970s. But none of those articles reference the book -- they reference the pamphlet itself.\n",
    "\n",
    "Part of the issue may be the references themselves; I noticed that some can be of varying accuracy, and Scopus (understandably) simply parses them at face value.\n",
    "\n",
    "Take, for example, our Rice Institute Pamphlet that showed up six times in the search results. Its RDSA page provides a helpful example citation, and due to the fact that there are several reference citation formats in academia, we can't expect the example citation to be the format every article uses, right?\n",
    "\n",
    "And yet, all six of the citations are subtly different from each other, in their use of author name form, document source title, and even which handle URL:\n",
    "\n",
    "|Article ID|Citation Used in Article|\n",
    "|--|--|\n",
    "|85034101958|Turner, Victor. (1974). \"Liminal to Liminoid, in Play, Flow and Ritual: An Essay in Comparative Symbology\". Rice Institute Pamphlet - Rice University Studies 60/3: 53-92. https://scholarship.rice.edu/bitstream/handle/1911/63159/article_RIP603_part4.pdf (Accessed 3 June 2016).|\n",
    "|84947289407|V.Turner, (1974). Liminal to liminoid, in play, flow, and ritual:An essay in comparative symbology. Rice University Studies, 60(3), 53–92. Retrieved from https://scholarship.rice.edu/handle/1911/63159|\n",
    "|85006004128|Turner, V. (1974) ‘Liminal to liminoid, in play, flow, and ritual: an essay in comparative symbology’, Rice Institute pamphlet, Rice University Studies, 60 (3), available at: http://hdl.handle.net/1911/63159.|\n",
    "|85021383745|Turner, V. (1974). Liminal to Liminoid, in Play, Flow, and Ritual: An Essay in Comparative Symbology. Rice Institute Pamphlet-Rice University Studies, 60, (3). Recuperado de http://hdl.handle.net/1911/63159.|\n",
    "|85020977329|Turner, V. (1982). Liminal to liminoid, in play, flow, and ritual: An essay in comparative symbology. Rice University Studies, 60(3), 53-92. Retrieved from http://hdl.handle.net/1911/63159|\n",
    "|84964008023|V.Turner, (1974). Liminal to liminoid, in play, flow, and ritual: An essay in comparative symbology. Rice University Studies, 60(3), 53–92. Retrieved from http://hdl.handle.net/1911/63159|\n",
    "\n",
    "(All that being said, Scopus was still skilled enough to connect all six to the same master reference ID.)\n",
    "\n",
    "The greater take-away from this investigation may be the necessity to remind scholars to properly cite our material in the RDSA. This is, of course, no easy feat with no simple solution -- after all, we already provide citation examples for virtually all of our data.\n",
    "\n",
    "Interestingly, the problem may be the product of how disciplines prefer to cite research. For example, guidelines within both the Chicago Manual of Style and the Modern Language Association (MLA) generally prescribe the inclusion of URLs or permalinks for ebooks, journals, news or magazine articles consulted online. Meanwhile, the American Psychological Association (APA) citation style has, historically, shown preference toward using the \"print citation information\" for referencing a print article obtained from an online database: \"By providing this information, you allow people to retrieve the print version if they do not have access to the database from which you retrieved the article.\" ([Source](https://owl.english.purdue.edu/owl/resource/560/10/)) Of course, times change, and APA does now prescribe using URLs; however, their wariness toward entropy of web links is fully apparent [here](http://www.apastyle.org/manual/related/electronic-sources.pdf).\n",
    "\n",
    "Because of this, a possible way to start rectifying the situation might be to emphasize the importance of using our permalink RDSA handles, either directly on our repository or through outreach to faculty members. One of the resulting findings from the investigation was the realization that only half of the citations cite our handle URLs; the others cite the non-permanent **scholarship.rice.edu** domain, or link directly to the cited digital object's file:\n",
    "\n",
    "![graph5.PNG](graph5.PNG)\n",
    "\n",
    "In any case, it would be a start, if not a magic bullet solution."
   ]
  }
 ],
 "metadata": {
  "kernelspec": {
   "display_name": "Python 3.6",
   "language": "python",
   "name": "python3.6"
  },
  "language_info": {
   "codemirror_mode": {
    "name": "ipython",
    "version": 3
   },
   "file_extension": ".py",
   "mimetype": "text/x-python",
   "name": "python",
   "nbconvert_exporter": "python",
   "pygments_lexer": "ipython3",
   "version": "3.6.0"
  }
 },
 "nbformat": 4,
 "nbformat_minor": 0
}
